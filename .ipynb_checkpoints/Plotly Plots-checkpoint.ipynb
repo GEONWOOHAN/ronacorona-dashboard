{
 "cells": [
  {
   "cell_type": "code",
   "execution_count": null,
   "id": "5826cd8d-29b3-43ca-8bb4-b6b43accc721",
   "metadata": {},
   "outputs": [],
   "source": [
    "import plotly.express as px\n",
    "from data import totals_df\n",
    "\n",
    "fig = px.bar(totals_df, x=\"condition\", hover_data={\n",
    "    'count': \":,\"\n",
    "}, y=\"count\", template=\"plotly_dark\", title=\"Total Global Cases\")\n",
    "fig.update_layout(\n",
    "    xaxis=dict(title=\"Condition\"),\n",
    "    yaxis=dict(title=\"Count\")\n",
    ")\n",
    "fig.show()"
   ]
  }
 ],
 "metadata": {
  "kernelspec": {
   "display_name": "Python 3 (ipykernel)",
   "language": "python",
   "name": "python3"
  },
  "language_info": {
   "codemirror_mode": {
    "name": "ipython",
    "version": 3
   },
   "file_extension": ".py",
   "mimetype": "text/x-python",
   "name": "python",
   "nbconvert_exporter": "python",
   "pygments_lexer": "ipython3",
   "version": "3.12.2"
  }
 },
 "nbformat": 4,
 "nbformat_minor": 5
}
